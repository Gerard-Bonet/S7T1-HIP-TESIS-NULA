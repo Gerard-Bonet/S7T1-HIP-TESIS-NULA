{
 "cells": [
  {
   "cell_type": "code",
   "execution_count": 8,
   "id": "d72650fe",
   "metadata": {},
   "outputs": [
    {
     "name": "stdout",
     "output_type": "stream",
     "text": [
      "0.9331927987311419\n"
     ]
    }
   ],
   "source": [
    "import sqlite3\n",
    "import pandas as pd\n",
    "import sqlalchemy\n",
    "import numpy as np\n",
    "import scipy\n",
    "from scipy import stats\n",
    "from scipy.stats import norm\n",
    "\n",
    "\n",
    "probability_pdf = norm(0,1).cdf(1.5)\n",
    "print (probability_pdf)"
   ]
  },
  {
   "cell_type": "markdown",
   "id": "f12de477",
   "metadata": {},
   "source": [
    "# S07 T01: Test de hipótesis. "
   ]
  },
  {
   "cell_type": "markdown",
   "id": "76563e85",
   "metadata": {},
   "source": [
    "- Ejercicio 1\n",
    "\n",
    "Coge un conjunto de datos de tema deportivo que te guste y selecciona un atributo del conjunto de datos. Calcula el **p-valor** \n",
    "\n",
    "y di si rechaza la **hipótesis nula** cogiendo un alfa de 5%."
   ]
  },
  {
   "cell_type": "code",
   "execution_count": 10,
   "id": "e13dab52",
   "metadata": {},
   "outputs": [
    {
     "data": {
      "text/html": [
       "<div>\n",
       "<style scoped>\n",
       "    .dataframe tbody tr th:only-of-type {\n",
       "        vertical-align: middle;\n",
       "    }\n",
       "\n",
       "    .dataframe tbody tr th {\n",
       "        vertical-align: top;\n",
       "    }\n",
       "\n",
       "    .dataframe thead th {\n",
       "        text-align: right;\n",
       "    }\n",
       "</style>\n",
       "<table border=\"1\" class=\"dataframe\">\n",
       "  <thead>\n",
       "    <tr style=\"text-align: right;\">\n",
       "      <th></th>\n",
       "      <th>id</th>\n",
       "      <th>player_fifa_api_id</th>\n",
       "      <th>player_api_id</th>\n",
       "      <th>date</th>\n",
       "      <th>overall_rating</th>\n",
       "      <th>potential</th>\n",
       "      <th>preferred_foot</th>\n",
       "      <th>attacking_work_rate</th>\n",
       "      <th>defensive_work_rate</th>\n",
       "      <th>crossing</th>\n",
       "      <th>...</th>\n",
       "      <th>vision</th>\n",
       "      <th>penalties</th>\n",
       "      <th>marking</th>\n",
       "      <th>standing_tackle</th>\n",
       "      <th>sliding_tackle</th>\n",
       "      <th>gk_diving</th>\n",
       "      <th>gk_handling</th>\n",
       "      <th>gk_kicking</th>\n",
       "      <th>gk_positioning</th>\n",
       "      <th>gk_reflexes</th>\n",
       "    </tr>\n",
       "  </thead>\n",
       "  <tbody>\n",
       "    <tr>\n",
       "      <th>0</th>\n",
       "      <td>1</td>\n",
       "      <td>218353</td>\n",
       "      <td>505942</td>\n",
       "      <td>2016-02-18 00:00:00</td>\n",
       "      <td>67.0</td>\n",
       "      <td>71.0</td>\n",
       "      <td>right</td>\n",
       "      <td>medium</td>\n",
       "      <td>medium</td>\n",
       "      <td>49.0</td>\n",
       "      <td>...</td>\n",
       "      <td>54.0</td>\n",
       "      <td>48.0</td>\n",
       "      <td>65.0</td>\n",
       "      <td>69.0</td>\n",
       "      <td>69.0</td>\n",
       "      <td>6.0</td>\n",
       "      <td>11.0</td>\n",
       "      <td>10.0</td>\n",
       "      <td>8.0</td>\n",
       "      <td>8.0</td>\n",
       "    </tr>\n",
       "    <tr>\n",
       "      <th>1</th>\n",
       "      <td>2</td>\n",
       "      <td>218353</td>\n",
       "      <td>505942</td>\n",
       "      <td>2015-11-19 00:00:00</td>\n",
       "      <td>67.0</td>\n",
       "      <td>71.0</td>\n",
       "      <td>right</td>\n",
       "      <td>medium</td>\n",
       "      <td>medium</td>\n",
       "      <td>49.0</td>\n",
       "      <td>...</td>\n",
       "      <td>54.0</td>\n",
       "      <td>48.0</td>\n",
       "      <td>65.0</td>\n",
       "      <td>69.0</td>\n",
       "      <td>69.0</td>\n",
       "      <td>6.0</td>\n",
       "      <td>11.0</td>\n",
       "      <td>10.0</td>\n",
       "      <td>8.0</td>\n",
       "      <td>8.0</td>\n",
       "    </tr>\n",
       "    <tr>\n",
       "      <th>2</th>\n",
       "      <td>3</td>\n",
       "      <td>218353</td>\n",
       "      <td>505942</td>\n",
       "      <td>2015-09-21 00:00:00</td>\n",
       "      <td>62.0</td>\n",
       "      <td>66.0</td>\n",
       "      <td>right</td>\n",
       "      <td>medium</td>\n",
       "      <td>medium</td>\n",
       "      <td>49.0</td>\n",
       "      <td>...</td>\n",
       "      <td>54.0</td>\n",
       "      <td>48.0</td>\n",
       "      <td>65.0</td>\n",
       "      <td>66.0</td>\n",
       "      <td>69.0</td>\n",
       "      <td>6.0</td>\n",
       "      <td>11.0</td>\n",
       "      <td>10.0</td>\n",
       "      <td>8.0</td>\n",
       "      <td>8.0</td>\n",
       "    </tr>\n",
       "    <tr>\n",
       "      <th>3</th>\n",
       "      <td>4</td>\n",
       "      <td>218353</td>\n",
       "      <td>505942</td>\n",
       "      <td>2015-03-20 00:00:00</td>\n",
       "      <td>61.0</td>\n",
       "      <td>65.0</td>\n",
       "      <td>right</td>\n",
       "      <td>medium</td>\n",
       "      <td>medium</td>\n",
       "      <td>48.0</td>\n",
       "      <td>...</td>\n",
       "      <td>53.0</td>\n",
       "      <td>47.0</td>\n",
       "      <td>62.0</td>\n",
       "      <td>63.0</td>\n",
       "      <td>66.0</td>\n",
       "      <td>5.0</td>\n",
       "      <td>10.0</td>\n",
       "      <td>9.0</td>\n",
       "      <td>7.0</td>\n",
       "      <td>7.0</td>\n",
       "    </tr>\n",
       "    <tr>\n",
       "      <th>4</th>\n",
       "      <td>5</td>\n",
       "      <td>218353</td>\n",
       "      <td>505942</td>\n",
       "      <td>2007-02-22 00:00:00</td>\n",
       "      <td>61.0</td>\n",
       "      <td>65.0</td>\n",
       "      <td>right</td>\n",
       "      <td>medium</td>\n",
       "      <td>medium</td>\n",
       "      <td>48.0</td>\n",
       "      <td>...</td>\n",
       "      <td>53.0</td>\n",
       "      <td>47.0</td>\n",
       "      <td>62.0</td>\n",
       "      <td>63.0</td>\n",
       "      <td>66.0</td>\n",
       "      <td>5.0</td>\n",
       "      <td>10.0</td>\n",
       "      <td>9.0</td>\n",
       "      <td>7.0</td>\n",
       "      <td>7.0</td>\n",
       "    </tr>\n",
       "  </tbody>\n",
       "</table>\n",
       "<p>5 rows × 42 columns</p>\n",
       "</div>"
      ],
      "text/plain": [
       "   id  player_fifa_api_id  player_api_id                 date  overall_rating  \\\n",
       "0   1              218353         505942  2016-02-18 00:00:00            67.0   \n",
       "1   2              218353         505942  2015-11-19 00:00:00            67.0   \n",
       "2   3              218353         505942  2015-09-21 00:00:00            62.0   \n",
       "3   4              218353         505942  2015-03-20 00:00:00            61.0   \n",
       "4   5              218353         505942  2007-02-22 00:00:00            61.0   \n",
       "\n",
       "   potential preferred_foot attacking_work_rate defensive_work_rate  crossing  \\\n",
       "0       71.0          right              medium              medium      49.0   \n",
       "1       71.0          right              medium              medium      49.0   \n",
       "2       66.0          right              medium              medium      49.0   \n",
       "3       65.0          right              medium              medium      48.0   \n",
       "4       65.0          right              medium              medium      48.0   \n",
       "\n",
       "   ...  vision  penalties  marking  standing_tackle  sliding_tackle  \\\n",
       "0  ...    54.0       48.0     65.0             69.0            69.0   \n",
       "1  ...    54.0       48.0     65.0             69.0            69.0   \n",
       "2  ...    54.0       48.0     65.0             66.0            69.0   \n",
       "3  ...    53.0       47.0     62.0             63.0            66.0   \n",
       "4  ...    53.0       47.0     62.0             63.0            66.0   \n",
       "\n",
       "   gk_diving  gk_handling  gk_kicking  gk_positioning  gk_reflexes  \n",
       "0        6.0         11.0        10.0             8.0          8.0  \n",
       "1        6.0         11.0        10.0             8.0          8.0  \n",
       "2        6.0         11.0        10.0             8.0          8.0  \n",
       "3        5.0         10.0         9.0             7.0          7.0  \n",
       "4        5.0         10.0         9.0             7.0          7.0  \n",
       "\n",
       "[5 rows x 42 columns]"
      ]
     },
     "execution_count": 10,
     "metadata": {},
     "output_type": "execute_result"
    }
   ],
   "source": [
    "con= sqlite3.connect(\"database.sqlite\")# importamos la base de datos. \n",
    "\n",
    "\n",
    "df = pd.read_sql_query( \"SELECT * from Player_Attributes\", con)\n",
    "df.head()"
   ]
  },
  {
   "cell_type": "markdown",
   "id": "8422f184",
   "metadata": {},
   "source": [
    "Escogemos la variable \" **pierna dominante** \""
   ]
  },
  {
   "cell_type": "code",
   "execution_count": 11,
   "id": "9172d210",
   "metadata": {},
   "outputs": [],
   "source": [
    "dff= df [[\"preferred_foot\"]]\n"
   ]
  },
  {
   "cell_type": "markdown",
   "id": "8c429040",
   "metadata": {},
   "source": [
    "Según un estudio realizado en 2009 un 12% de la población mundial es zurda. Aunque si miramos los paises, este porcentaje varía \n",
    "\n",
    "en función del país, siendo holanda el país con más personas zurdas(13,23%), mientras que en ciertos países asiáticos el número \n",
    "\n",
    "de zurdos se reduce por debajo del 5%, seguramente a una estigmatización social, y al intento de intentar usa la diestra. \n",
    "\n",
    "https://es.statista.com/grafico/22552/porcentaje-de-personas-zurdas-en-paises-seleccionados/#:~:text=Se%20calcula%20que%20aproximadamente%20un,elaborado%20una%20comparaci%C3%B3n%20entre%20pa%C3%ADses.\n",
    "\n",
    "En el fútbol, debido al propio juego y a que es un juego en que las simetrías respecto a las longitudinal del campo son \n",
    "\n",
    "importantes, es posible que el número de zurdos sea mucho mayor al de la población mundial (12%). En el fútbol se da mucha \n",
    "\n",
    "importancia a tener un lateral zurdo, y en menor medida o un central zurdo y un extremo. El primero es fundamental en casi \n",
    "\n",
    "cualquier equipo tanto para la fase defensiva como ofensiva. Mientras que para los otros dos puestos, es más fácil ver a \n",
    "\n",
    "diestros. Teniendo en cuenta que si hay 11 jugadores por equipo, y al menos habrán dos diestros, Así que mi hipótesis nula es \n",
    "\n",
    " *                     H<sub>0</sub>:p > p<sub>0</sub>                         p<sub>0</sub> = 0.2\n",
    " \n",
    " Siendo la hipótesis alternativa . \n",
    " \n",
    " \n",
    " *                     H<sub>1</sub>:p < p<sub>1</sub> "
   ]
  },
  {
   "cell_type": "markdown",
   "id": "455abe1e",
   "metadata": {},
   "source": [
    "Realizaremos el test de hipótesis unilateral  de Bernoulli, que es como el test de Student o el Z, pero aplicado a identificar \n",
    "\n",
    "un valor p de probabilidad. Cómo es sabido, la media coincide con p, tal que el estadístico será la media y la región de \n",
    "\n",
    "rechazo: \n",
    "\n",
    "*   $\\overline{x}$ <p<sub>0</sub>-$Z_{\\alpha }$ $\\sqrt{\\dfrac{p_{0}( 1-p_{0}) }{n}}$\n",
    "\n",
    "\n",
    "$Z_{\\alpha }$ es el valor de la variable aleatoria , normal estándar N(0,1), cuya probabilidad de que P( Z> $Z_{\\alpha }$)=  ${\\alpha }$, y **n** es el tamaño de la muestra\n",
    "\n",
    "Para los test de hipótesis de Bernoulli el tamaño de la muestra ha de ser grande. n>>30 ( que 30 suele ser aceptado en \n",
    "\n",
    "literatura metmática como un muestreo mínimamente aceptable). ${\\alpha }$ es el nivel de significación\n",
    "\n"
   ]
  },
  {
   "cell_type": "code",
   "execution_count": 21,
   "id": "ee53e531",
   "metadata": {},
   "outputs": [
    {
     "data": {
      "text/html": [
       "<div>\n",
       "<style scoped>\n",
       "    .dataframe tbody tr th:only-of-type {\n",
       "        vertical-align: middle;\n",
       "    }\n",
       "\n",
       "    .dataframe tbody tr th {\n",
       "        vertical-align: top;\n",
       "    }\n",
       "\n",
       "    .dataframe thead th {\n",
       "        text-align: right;\n",
       "    }\n",
       "</style>\n",
       "<table border=\"1\" class=\"dataframe\">\n",
       "  <thead>\n",
       "    <tr style=\"text-align: right;\">\n",
       "      <th></th>\n",
       "      <th>preferred_foot</th>\n",
       "    </tr>\n",
       "  </thead>\n",
       "  <tbody>\n",
       "    <tr>\n",
       "      <th>22606</th>\n",
       "      <td>left</td>\n",
       "    </tr>\n",
       "    <tr>\n",
       "      <th>46729</th>\n",
       "      <td>right</td>\n",
       "    </tr>\n",
       "    <tr>\n",
       "      <th>17424</th>\n",
       "      <td>right</td>\n",
       "    </tr>\n",
       "    <tr>\n",
       "      <th>76489</th>\n",
       "      <td>left</td>\n",
       "    </tr>\n",
       "    <tr>\n",
       "      <th>124239</th>\n",
       "      <td>right</td>\n",
       "    </tr>\n",
       "  </tbody>\n",
       "</table>\n",
       "</div>"
      ],
      "text/plain": [
       "       preferred_foot\n",
       "22606            left\n",
       "46729           right\n",
       "17424           right\n",
       "76489            left\n",
       "124239          right"
      ]
     },
     "execution_count": 21,
     "metadata": {},
     "output_type": "execute_result"
    }
   ],
   "source": [
    "# hacemos un muestreo aleatorio simple de n= 1000\n",
    "n= 1000\n",
    "muestra =dff.sample(n = 1000)\n",
    "\n",
    "muestra.head()"
   ]
  },
  {
   "cell_type": "code",
   "execution_count": 22,
   "id": "0d1f5204",
   "metadata": {},
   "outputs": [
    {
     "data": {
      "text/plain": [
       "preferred_foot\n",
       "right             749\n",
       "left              244\n",
       "dtype: int64"
      ]
     },
     "execution_count": 22,
     "metadata": {},
     "output_type": "execute_result"
    }
   ],
   "source": [
    "#calculamos el valor de la media(p)\n",
    "pq= muestra.value_counts()\n",
    "pq"
   ]
  },
  {
   "cell_type": "code",
   "execution_count": 52,
   "id": "e19ead04",
   "metadata": {},
   "outputs": [
    {
     "name": "stdout",
     "output_type": "stream",
     "text": [
      "el valor p es : 0.2457200402819738\n"
     ]
    }
   ],
   "source": [
    "pqarr= pq.to_numpy()\n",
    "p= pqarr[1]/ (pqarr[1]+pqarr[0])\n",
    "q= 1-p\n",
    "# en una prueba de hipótesis de Bernoulli, la esperanza coincide con p y la variaza con p*q\n",
    "\n",
    "#calcularemos la posibilidad el p-valor para saber si aceptamos la hipóteisi o no. \n",
    "\n",
    "print ( \"el valor p es :\" , p )"
   ]
  },
  {
   "cell_type": "code",
   "execution_count": 30,
   "id": "c99ef27e",
   "metadata": {},
   "outputs": [],
   "source": [
    "#definimos las siguientes variables. \n",
    "p0= 0.2 # de la hipótesis nula \n",
    "\n",
    "# defiminos el a0 como el valor mínimo de alfa por el que se rechazará la hiótesis.\n"
   ]
  },
  {
   "cell_type": "markdown",
   "id": "68c123bc",
   "metadata": {},
   "source": [
    "despejando ${\\alpha }$ de la ecuación  encontramos el valor míinimo de ${\\alpha }$, sea a0\n",
    "\n",
    "*   $\\overline{x}$ <p<sub>0</sub>-$Z_{\\alpha }$ $\\sqrt{\\dfrac{p_{0}( 1-p_{0}) }{n}}$"
   ]
  },
  {
   "cell_type": "code",
   "execution_count": 54,
   "id": "a7c4af77",
   "metadata": {},
   "outputs": [],
   "source": [
    "z= -(p-p0)* (( p0*(1-p0)/n )**(-0.5))# sólo es una variable auxiliar para evitar la fórmulas largas \n",
    "alpha= 0.05"
   ]
  },
  {
   "cell_type": "code",
   "execution_count": 55,
   "id": "9b000dc2",
   "metadata": {},
   "outputs": [
    {
     "name": "stdout",
     "output_type": "stream",
     "text": [
      "0.00015047171885920055\n"
     ]
    }
   ],
   "source": [
    "a0= norm(0,1).cdf(z) # es el valor mínimo de alpha por el que será aceptada la hipótesis nula \n",
    "print (a0)"
   ]
  },
  {
   "cell_type": "code",
   "execution_count": 56,
   "id": "769fe4ac",
   "metadata": {},
   "outputs": [
    {
     "data": {
      "text/plain": [
       "0.00025195130700063595"
      ]
     },
     "execution_count": 56,
     "metadata": {},
     "output_type": "execute_result"
    }
   ],
   "source": [
    "scipy.stats. binom_test ( pqarr[1], n=(pqarr[1]+pqarr[0]), p= 0.2, alternative='greater' )"
   ]
  },
  {
   "cell_type": "code",
   "execution_count": 57,
   "id": "cd99b1e2",
   "metadata": {},
   "outputs": [
    {
     "name": "stdout",
     "output_type": "stream",
     "text": [
      " la hipótesis nula no es rechazada\n"
     ]
    }
   ],
   "source": [
    "if (alpha >= a0) and ( p>= p0 ) : \n",
    "    print ( \" la hipótesis nula no es rechazada\")\n",
    "else:\n",
    "    print ( \" la hipótesis nula es rechaza\")"
   ]
  }
 ],
 "metadata": {
  "kernelspec": {
   "display_name": "Python 3 (ipykernel)",
   "language": "python",
   "name": "python3"
  },
  "language_info": {
   "codemirror_mode": {
    "name": "ipython",
    "version": 3
   },
   "file_extension": ".py",
   "mimetype": "text/x-python",
   "name": "python",
   "nbconvert_exporter": "python",
   "pygments_lexer": "ipython3",
   "version": "3.9.7"
  }
 },
 "nbformat": 4,
 "nbformat_minor": 5
}
